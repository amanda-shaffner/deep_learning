{
  "nbformat": 4,
  "nbformat_minor": 0,
  "metadata": {
    "colab": {
      "provenance": [],
      "authorship_tag": "ABX9TyMT5K+tnipcdElK97eWRUJO",
      "include_colab_link": true
    },
    "kernelspec": {
      "name": "python3",
      "display_name": "Python 3"
    },
    "language_info": {
      "name": "python"
    }
  },
  "cells": [
    {
      "cell_type": "markdown",
      "metadata": {
        "id": "view-in-github",
        "colab_type": "text"
      },
      "source": [
        "<a href=\"https://colab.research.google.com/github/amanda-shaffner/deep_learning/blob/main/5_3_5_gradient_descent.ipynb\" target=\"_parent\"><img src=\"https://colab.research.google.com/assets/colab-badge.svg\" alt=\"Open In Colab\"/></a>"
      ]
    },
    {
      "cell_type": "code",
      "execution_count": 3,
      "metadata": {
        "id": "5iP9RnhSMOze"
      },
      "outputs": [],
      "source": [
        "from tensorflow.keras.models import Sequential\n",
        "from tensorflow.keras.datasets import mnist\n",
        "from tensorflow.keras.models import Sequential\n",
        "from tensorflow.keras.layers import Dense\n",
        "from tensorflow.keras.utils import to_categorical\n",
        "\n",
        "import warnings\n",
        "warnings.filterwarnings(\"ignore\")"
      ]
    },
    {
      "cell_type": "code",
      "source": [
        "(X_train, y_train), (X_test, y_test) = mnist.load_data()\n",
        "\n",
        "input_dim = 784  # 28*28\n",
        "output_dim = nb_classes = 10\n",
        "nb_epoch = 20\n",
        "\n",
        "X_train = X_train.reshape(60000, input_dim)\n",
        "X_test = X_test.reshape(10000, input_dim)\n",
        "X_train = X_train.astype('float32')\n",
        "X_test = X_test.astype('float32')\n",
        "X_train /= 255\n",
        "X_test /= 255\n",
        "\n",
        "Y_train = to_categorical(y_train, nb_classes)\n",
        "Y_test = to_categorical(y_test, nb_classes)"
      ],
      "metadata": {
        "id": "AHkIV6uAMolH"
      },
      "execution_count": 7,
      "outputs": []
    },
    {
      "cell_type": "markdown",
      "source": [
        "Implement a three-layer ANN model with 128, 64, and 10 neurons in the layers. Use 8 as the mini-batch size."
      ],
      "metadata": {
        "id": "sdq-V_HQNSXa"
      }
    },
    {
      "cell_type": "code",
      "source": [
        "model = Sequential()\n",
        "# The first dense layer\n",
        "model.add(Dense(128, input_shape=(784,), activation=\"relu\"))\n",
        "# The second dense layer\n",
        "model.add(Dense(64, activation=\"relu\"))\n",
        "# The last layer is the output layer\n",
        "model.add(Dense(10, activation=\"softmax\"))\n",
        "\n",
        "model.compile(optimizer='sgd', loss='categorical_crossentropy', metrics=['accuracy'])\n",
        "\n",
        "model.fit(X_train, Y_train, batch_size=8, epochs=20, verbose=1)"
      ],
      "metadata": {
        "colab": {
          "base_uri": "https://localhost:8080/"
        },
        "id": "mlOCKanZMyuF",
        "outputId": "6efa01a4-2204-41ca-ccb8-66cef07a5aab"
      },
      "execution_count": 8,
      "outputs": [
        {
          "output_type": "stream",
          "name": "stdout",
          "text": [
            "Epoch 1/20\n",
            "7500/7500 [==============================] - 15s 2ms/step - loss: 0.3714 - accuracy: 0.8941\n",
            "Epoch 2/20\n",
            "7500/7500 [==============================] - 15s 2ms/step - loss: 0.1707 - accuracy: 0.9498\n",
            "Epoch 3/20\n",
            "7500/7500 [==============================] - 15s 2ms/step - loss: 0.1226 - accuracy: 0.9640\n",
            "Epoch 4/20\n",
            "7500/7500 [==============================] - 15s 2ms/step - loss: 0.0965 - accuracy: 0.9712\n",
            "Epoch 5/20\n",
            "7500/7500 [==============================] - 14s 2ms/step - loss: 0.0790 - accuracy: 0.9770\n",
            "Epoch 6/20\n",
            "7500/7500 [==============================] - 15s 2ms/step - loss: 0.0663 - accuracy: 0.9808\n",
            "Epoch 7/20\n",
            "7500/7500 [==============================] - 16s 2ms/step - loss: 0.0566 - accuracy: 0.9827\n",
            "Epoch 8/20\n",
            "7500/7500 [==============================] - 15s 2ms/step - loss: 0.0479 - accuracy: 0.9861\n",
            "Epoch 9/20\n",
            "7500/7500 [==============================] - 16s 2ms/step - loss: 0.0417 - accuracy: 0.9880\n",
            "Epoch 10/20\n",
            "7500/7500 [==============================] - 15s 2ms/step - loss: 0.0354 - accuracy: 0.9901\n",
            "Epoch 11/20\n",
            "7500/7500 [==============================] - 14s 2ms/step - loss: 0.0312 - accuracy: 0.9913\n",
            "Epoch 12/20\n",
            "7500/7500 [==============================] - 15s 2ms/step - loss: 0.0260 - accuracy: 0.9934\n",
            "Epoch 13/20\n",
            "7500/7500 [==============================] - 15s 2ms/step - loss: 0.0231 - accuracy: 0.9940\n",
            "Epoch 14/20\n",
            "7500/7500 [==============================] - 15s 2ms/step - loss: 0.0196 - accuracy: 0.9954\n",
            "Epoch 15/20\n",
            "7500/7500 [==============================] - 15s 2ms/step - loss: 0.0164 - accuracy: 0.9960\n",
            "Epoch 16/20\n",
            "7500/7500 [==============================] - 15s 2ms/step - loss: 0.0143 - accuracy: 0.9970\n",
            "Epoch 17/20\n",
            "7500/7500 [==============================] - 17s 2ms/step - loss: 0.0117 - accuracy: 0.9980\n",
            "Epoch 18/20\n",
            "7500/7500 [==============================] - 16s 2ms/step - loss: 0.0101 - accuracy: 0.9982\n",
            "Epoch 19/20\n",
            "7500/7500 [==============================] - 15s 2ms/step - loss: 0.0090 - accuracy: 0.9986\n",
            "Epoch 20/20\n",
            "7500/7500 [==============================] - 16s 2ms/step - loss: 0.0078 - accuracy: 0.9988\n"
          ]
        },
        {
          "output_type": "execute_result",
          "data": {
            "text/plain": [
              "<keras.src.callbacks.History at 0x7bfcf0c3ec50>"
            ]
          },
          "metadata": {},
          "execution_count": 8
        }
      ]
    },
    {
      "cell_type": "code",
      "source": [
        "score = model.evaluate(X_test, Y_test, verbose=0)\n",
        "print('Test score:', score[0])\n",
        "print('Test accuracy:', score[1])"
      ],
      "metadata": {
        "colab": {
          "base_uri": "https://localhost:8080/"
        },
        "id": "S_dhnITUN3pK",
        "outputId": "e9289976-b961-4e41-ff17-81bd482b7c4c"
      },
      "execution_count": 9,
      "outputs": [
        {
          "output_type": "stream",
          "name": "stdout",
          "text": [
            "Test score: 0.07854105532169342\n",
            "Test accuracy: 0.979200005531311\n"
          ]
        }
      ]
    },
    {
      "cell_type": "markdown",
      "source": [
        "Implement a three-layer ANN model with 128, 64, and 10 neurons in the layers. Use 128 as the mini-batch size."
      ],
      "metadata": {
        "id": "rJMirwlBNUwV"
      }
    },
    {
      "cell_type": "code",
      "source": [
        "model = Sequential()\n",
        "# The first dense layer\n",
        "model.add(Dense(128, input_shape=(784,), activation=\"relu\"))\n",
        "# The second dense layer\n",
        "model.add(Dense(64, activation=\"relu\"))\n",
        "# The last layer is the output layer\n",
        "model.add(Dense(10, activation=\"softmax\"))\n",
        "\n",
        "model.compile(optimizer='sgd', loss='categorical_crossentropy', metrics=['accuracy'])\n",
        "\n",
        "model.fit(X_train, Y_train, batch_size=128, epochs=20, verbose=1)"
      ],
      "metadata": {
        "colab": {
          "base_uri": "https://localhost:8080/"
        },
        "id": "JaP8O7akNc0S",
        "outputId": "72efc92e-77d7-4820-f266-578564c54e72"
      },
      "execution_count": 10,
      "outputs": [
        {
          "output_type": "stream",
          "name": "stdout",
          "text": [
            "Epoch 1/20\n",
            "469/469 [==============================] - 3s 5ms/step - loss: 1.1648 - accuracy: 0.6993\n",
            "Epoch 2/20\n",
            "469/469 [==============================] - 2s 5ms/step - loss: 0.4792 - accuracy: 0.8727\n",
            "Epoch 3/20\n",
            "469/469 [==============================] - 2s 4ms/step - loss: 0.3769 - accuracy: 0.8953\n",
            "Epoch 4/20\n",
            "469/469 [==============================] - 2s 3ms/step - loss: 0.3334 - accuracy: 0.9047\n",
            "Epoch 5/20\n",
            "469/469 [==============================] - 2s 3ms/step - loss: 0.3068 - accuracy: 0.9121\n",
            "Epoch 6/20\n",
            "469/469 [==============================] - 2s 4ms/step - loss: 0.2871 - accuracy: 0.9178\n",
            "Epoch 7/20\n",
            "469/469 [==============================] - 2s 4ms/step - loss: 0.2714 - accuracy: 0.9225\n",
            "Epoch 8/20\n",
            "469/469 [==============================] - 2s 5ms/step - loss: 0.2579 - accuracy: 0.9261\n",
            "Epoch 9/20\n",
            "469/469 [==============================] - 2s 4ms/step - loss: 0.2463 - accuracy: 0.9299\n",
            "Epoch 10/20\n",
            "469/469 [==============================] - 2s 3ms/step - loss: 0.2360 - accuracy: 0.9326\n",
            "Epoch 11/20\n",
            "469/469 [==============================] - 2s 4ms/step - loss: 0.2267 - accuracy: 0.9348\n",
            "Epoch 12/20\n",
            "469/469 [==============================] - 2s 4ms/step - loss: 0.2182 - accuracy: 0.9378\n",
            "Epoch 13/20\n",
            "469/469 [==============================] - 2s 4ms/step - loss: 0.2104 - accuracy: 0.9403\n",
            "Epoch 14/20\n",
            "469/469 [==============================] - 2s 4ms/step - loss: 0.2033 - accuracy: 0.9420\n",
            "Epoch 15/20\n",
            "469/469 [==============================] - 3s 6ms/step - loss: 0.1964 - accuracy: 0.9441\n",
            "Epoch 16/20\n",
            "469/469 [==============================] - 2s 5ms/step - loss: 0.1902 - accuracy: 0.9457\n",
            "Epoch 17/20\n",
            "469/469 [==============================] - 2s 3ms/step - loss: 0.1842 - accuracy: 0.9482\n",
            "Epoch 18/20\n",
            "469/469 [==============================] - 2s 3ms/step - loss: 0.1788 - accuracy: 0.9494\n",
            "Epoch 19/20\n",
            "469/469 [==============================] - 2s 3ms/step - loss: 0.1736 - accuracy: 0.9505\n",
            "Epoch 20/20\n",
            "469/469 [==============================] - 2s 3ms/step - loss: 0.1686 - accuracy: 0.9520\n"
          ]
        },
        {
          "output_type": "execute_result",
          "data": {
            "text/plain": [
              "<keras.src.callbacks.History at 0x7bfcf028beb0>"
            ]
          },
          "metadata": {},
          "execution_count": 10
        }
      ]
    },
    {
      "cell_type": "code",
      "source": [
        "score = model.evaluate(X_test, Y_test, verbose=0)\n",
        "print('Test score:', score[0])\n",
        "print('Test accuracy:', score[1])"
      ],
      "metadata": {
        "colab": {
          "base_uri": "https://localhost:8080/"
        },
        "id": "KTRFphFmN9Ap",
        "outputId": "98821682-f91b-4af2-95ad-1b35280b0281"
      },
      "execution_count": 11,
      "outputs": [
        {
          "output_type": "stream",
          "name": "stdout",
          "text": [
            "Test score: 0.16784656047821045\n",
            "Test accuracy: 0.9505000114440918\n"
          ]
        }
      ]
    },
    {
      "cell_type": "markdown",
      "source": [
        "Implement a three-layer ANN model with 128, 64, and 10 neurons in the layers. Use the full sample as the batch size."
      ],
      "metadata": {
        "id": "F6g3kgKCNiGc"
      }
    },
    {
      "cell_type": "code",
      "source": [
        "model = Sequential()\n",
        "# The first dense layer\n",
        "model.add(Dense(128, input_shape=(784,), activation=\"relu\"))\n",
        "# The second dense layer\n",
        "model.add(Dense(64, activation=\"relu\"))\n",
        "# The last layer is the output layer\n",
        "model.add(Dense(10, activation=\"softmax\"))\n",
        "\n",
        "model.compile(optimizer='sgd', loss='categorical_crossentropy', metrics=['accuracy'])\n",
        "\n",
        "model.fit(X_train, Y_train, batch_size=X_train.shape[0], epochs=20, verbose=1)"
      ],
      "metadata": {
        "colab": {
          "base_uri": "https://localhost:8080/"
        },
        "id": "mKJAidMiOD_m",
        "outputId": "c6754cc1-0449-4154-ba75-8a4931b9ef3f"
      },
      "execution_count": 12,
      "outputs": [
        {
          "output_type": "stream",
          "name": "stdout",
          "text": [
            "Epoch 1/20\n",
            "1/1 [==============================] - 2s 2s/step - loss: 2.3692 - accuracy: 0.0831\n",
            "Epoch 2/20\n",
            "1/1 [==============================] - 1s 932ms/step - loss: 2.3617 - accuracy: 0.0845\n",
            "Epoch 3/20\n",
            "1/1 [==============================] - 1s 584ms/step - loss: 2.3545 - accuracy: 0.0860\n",
            "Epoch 4/20\n",
            "1/1 [==============================] - 1s 578ms/step - loss: 2.3476 - accuracy: 0.0878\n",
            "Epoch 5/20\n",
            "1/1 [==============================] - 1s 599ms/step - loss: 2.3409 - accuracy: 0.0900\n",
            "Epoch 6/20\n",
            "1/1 [==============================] - 1s 564ms/step - loss: 2.3344 - accuracy: 0.0922\n",
            "Epoch 7/20\n",
            "1/1 [==============================] - 1s 590ms/step - loss: 2.3281 - accuracy: 0.0945\n",
            "Epoch 8/20\n",
            "1/1 [==============================] - 1s 582ms/step - loss: 2.3220 - accuracy: 0.0966\n",
            "Epoch 9/20\n",
            "1/1 [==============================] - 1s 587ms/step - loss: 2.3160 - accuracy: 0.0986\n",
            "Epoch 10/20\n",
            "1/1 [==============================] - 1s 579ms/step - loss: 2.3102 - accuracy: 0.1010\n",
            "Epoch 11/20\n",
            "1/1 [==============================] - 1s 564ms/step - loss: 2.3045 - accuracy: 0.1035\n",
            "Epoch 12/20\n",
            "1/1 [==============================] - 1s 611ms/step - loss: 2.2990 - accuracy: 0.1059\n",
            "Epoch 13/20\n",
            "1/1 [==============================] - 1s 590ms/step - loss: 2.2936 - accuracy: 0.1086\n",
            "Epoch 14/20\n",
            "1/1 [==============================] - 1s 592ms/step - loss: 2.2883 - accuracy: 0.1113\n",
            "Epoch 15/20\n",
            "1/1 [==============================] - 1s 582ms/step - loss: 2.2831 - accuracy: 0.1141\n",
            "Epoch 16/20\n",
            "1/1 [==============================] - 1s 565ms/step - loss: 2.2780 - accuracy: 0.1174\n",
            "Epoch 17/20\n",
            "1/1 [==============================] - 1s 577ms/step - loss: 2.2729 - accuracy: 0.1206\n",
            "Epoch 18/20\n",
            "1/1 [==============================] - 0s 491ms/step - loss: 2.2680 - accuracy: 0.1239\n",
            "Epoch 19/20\n",
            "1/1 [==============================] - 1s 510ms/step - loss: 2.2631 - accuracy: 0.1270\n",
            "Epoch 20/20\n",
            "1/1 [==============================] - 1s 824ms/step - loss: 2.2583 - accuracy: 0.1298\n"
          ]
        },
        {
          "output_type": "execute_result",
          "data": {
            "text/plain": [
              "<keras.src.callbacks.History at 0x7bfce1183e80>"
            ]
          },
          "metadata": {},
          "execution_count": 12
        }
      ]
    },
    {
      "cell_type": "code",
      "source": [
        "score = model.evaluate(X_test, Y_test, verbose=0)\n",
        "print('Test score:', score[0])\n",
        "print('Test accuracy:', score[1])"
      ],
      "metadata": {
        "colab": {
          "base_uri": "https://localhost:8080/"
        },
        "id": "CgoLm5M3OMto",
        "outputId": "01e8975a-4748-4d3b-aa15-d454423132f6"
      },
      "execution_count": 13,
      "outputs": [
        {
          "output_type": "stream",
          "name": "stdout",
          "text": [
            "Test score: 2.2565767765045166\n",
            "Test accuracy: 0.1264999955892563\n"
          ]
        }
      ]
    },
    {
      "cell_type": "markdown",
      "source": [
        "Using 8 as the mini bactch resulted in the best training and test set scores. However, due to the large difference in scores, you could also go with 128 to avoid overfitting."
      ],
      "metadata": {
        "id": "Ed6ZK_qUOPHA"
      }
    },
    {
      "cell_type": "markdown",
      "source": [
        "Implement three three-layer ANN model with 128, 64, and 10 neurons in the layers. Use 0.01, 100, and 0.0000001 as the learning rates."
      ],
      "metadata": {
        "id": "v3EH6SdJOdlF"
      }
    },
    {
      "cell_type": "code",
      "source": [
        "from tensorflow.keras import optimizers\n",
        "sgd_1 = optimizers.SGD(learning_rate=0.01)\n",
        "sgd_2 = optimizers.SGD(learning_rate=100)\n",
        "sgd_3 = optimizers.SGD(learning_rate=0.0000001)"
      ],
      "metadata": {
        "id": "N1HyfjpSO-Rm"
      },
      "execution_count": 24,
      "outputs": []
    },
    {
      "cell_type": "code",
      "source": [
        "model = Sequential()\n",
        "# The first dense layer\n",
        "model.add(Dense(128, input_shape=(784,), activation=\"relu\"))\n",
        "# The second dense layer\n",
        "model.add(Dense(64, activation=\"relu\"))\n",
        "# The last layer is the output layer\n",
        "model.add(Dense(10, activation=\"softmax\"))\n",
        "\n",
        "model.compile(optimizer= sgd_1, loss='categorical_crossentropy', metrics=['accuracy'])\n",
        "\n",
        "model.fit(X_train, Y_train, batch_size=128, epochs=20, verbose=1)"
      ],
      "metadata": {
        "colab": {
          "base_uri": "https://localhost:8080/"
        },
        "id": "2QiZ0R5uOd1z",
        "outputId": "bfafbee9-2ca6-4ea6-f126-229d5ced5ec7"
      },
      "execution_count": 25,
      "outputs": [
        {
          "output_type": "stream",
          "name": "stdout",
          "text": [
            "Epoch 1/20\n",
            "469/469 [==============================] - 3s 5ms/step - loss: 1.3790 - accuracy: 0.6284\n",
            "Epoch 2/20\n",
            "469/469 [==============================] - 2s 3ms/step - loss: 0.5544 - accuracy: 0.8491\n",
            "Epoch 3/20\n",
            "469/469 [==============================] - 2s 3ms/step - loss: 0.4126 - accuracy: 0.8848\n",
            "Epoch 4/20\n",
            "469/469 [==============================] - 2s 3ms/step - loss: 0.3537 - accuracy: 0.9008\n",
            "Epoch 5/20\n",
            "469/469 [==============================] - 2s 3ms/step - loss: 0.3195 - accuracy: 0.9088\n",
            "Epoch 6/20\n",
            "469/469 [==============================] - 2s 3ms/step - loss: 0.2954 - accuracy: 0.9157\n",
            "Epoch 7/20\n",
            "469/469 [==============================] - 2s 3ms/step - loss: 0.2775 - accuracy: 0.9208\n",
            "Epoch 8/20\n",
            "469/469 [==============================] - 2s 5ms/step - loss: 0.2625 - accuracy: 0.9251\n",
            "Epoch 9/20\n",
            "469/469 [==============================] - 2s 4ms/step - loss: 0.2496 - accuracy: 0.9284\n",
            "Epoch 10/20\n",
            "469/469 [==============================] - 2s 3ms/step - loss: 0.2385 - accuracy: 0.9321\n",
            "Epoch 11/20\n",
            "469/469 [==============================] - 2s 3ms/step - loss: 0.2285 - accuracy: 0.9353\n",
            "Epoch 12/20\n",
            "469/469 [==============================] - 2s 3ms/step - loss: 0.2194 - accuracy: 0.9376\n",
            "Epoch 13/20\n",
            "469/469 [==============================] - 2s 3ms/step - loss: 0.2115 - accuracy: 0.9398\n",
            "Epoch 14/20\n",
            "469/469 [==============================] - 2s 3ms/step - loss: 0.2037 - accuracy: 0.9421\n",
            "Epoch 15/20\n",
            "469/469 [==============================] - 2s 4ms/step - loss: 0.1966 - accuracy: 0.9436\n",
            "Epoch 16/20\n",
            "469/469 [==============================] - 2s 5ms/step - loss: 0.1901 - accuracy: 0.9455\n",
            "Epoch 17/20\n",
            "469/469 [==============================] - 2s 3ms/step - loss: 0.1841 - accuracy: 0.9473\n",
            "Epoch 18/20\n",
            "469/469 [==============================] - 2s 3ms/step - loss: 0.1784 - accuracy: 0.9487\n",
            "Epoch 19/20\n",
            "469/469 [==============================] - 2s 3ms/step - loss: 0.1731 - accuracy: 0.9505\n",
            "Epoch 20/20\n",
            "469/469 [==============================] - 2s 3ms/step - loss: 0.1683 - accuracy: 0.9516\n"
          ]
        },
        {
          "output_type": "execute_result",
          "data": {
            "text/plain": [
              "<keras.src.callbacks.History at 0x7bfcdc2d8250>"
            ]
          },
          "metadata": {},
          "execution_count": 25
        }
      ]
    },
    {
      "cell_type": "code",
      "source": [
        "score = model.evaluate(X_test, Y_test, verbose=0)\n",
        "print('Test score:', score[0])\n",
        "print('Test accuracy:', score[1])"
      ],
      "metadata": {
        "colab": {
          "base_uri": "https://localhost:8080/"
        },
        "id": "_uY7DwlSQa4E",
        "outputId": "f4b7bbf1-decb-46fc-d664-ce410f07df90"
      },
      "execution_count": 26,
      "outputs": [
        {
          "output_type": "stream",
          "name": "stdout",
          "text": [
            "Test score: 0.16868244111537933\n",
            "Test accuracy: 0.9498000144958496\n"
          ]
        }
      ]
    },
    {
      "cell_type": "code",
      "source": [
        "model = Sequential()\n",
        "# The first dense layer\n",
        "model.add(Dense(128, input_shape=(784,), activation=\"relu\"))\n",
        "# The second dense layer\n",
        "model.add(Dense(64, activation=\"relu\"))\n",
        "# The last layer is the output layer\n",
        "model.add(Dense(10, activation=\"softmax\"))\n",
        "\n",
        "model.compile(optimizer= sgd_2, loss='categorical_crossentropy', metrics=['accuracy'])\n",
        "\n",
        "model.fit(X_train, Y_train, batch_size=128, epochs=20, verbose=1)"
      ],
      "metadata": {
        "colab": {
          "base_uri": "https://localhost:8080/"
        },
        "id": "v0RB8rrSQbRD",
        "outputId": "a326a817-c96b-4dc9-a2ef-b4826a1121fc"
      },
      "execution_count": 27,
      "outputs": [
        {
          "output_type": "stream",
          "name": "stdout",
          "text": [
            "Epoch 1/20\n",
            "469/469 [==============================] - 3s 4ms/step - loss: 72033649595252736.0000 - accuracy: 0.0974\n",
            "Epoch 2/20\n",
            "469/469 [==============================] - 2s 4ms/step - loss: 38.9559 - accuracy: 0.1008\n",
            "Epoch 3/20\n",
            "469/469 [==============================] - 2s 4ms/step - loss: 40.8758 - accuracy: 0.0993\n",
            "Epoch 4/20\n",
            "469/469 [==============================] - 2s 3ms/step - loss: 40.3014 - accuracy: 0.0996\n",
            "Epoch 5/20\n",
            "469/469 [==============================] - 2s 3ms/step - loss: 40.2985 - accuracy: 0.1004\n",
            "Epoch 6/20\n",
            "469/469 [==============================] - 2s 3ms/step - loss: 40.1460 - accuracy: 0.1021\n",
            "Epoch 7/20\n",
            "469/469 [==============================] - 2s 5ms/step - loss: 40.1466 - accuracy: 0.1008\n",
            "Epoch 8/20\n",
            "469/469 [==============================] - 2s 4ms/step - loss: 39.4310 - accuracy: 0.1015\n",
            "Epoch 9/20\n",
            "469/469 [==============================] - 2s 4ms/step - loss: 40.1661 - accuracy: 0.1011\n",
            "Epoch 10/20\n",
            "469/469 [==============================] - 2s 3ms/step - loss: 40.4434 - accuracy: 0.1023\n",
            "Epoch 11/20\n",
            "469/469 [==============================] - 2s 4ms/step - loss: 40.5865 - accuracy: 0.1011\n",
            "Epoch 12/20\n",
            "469/469 [==============================] - 2s 3ms/step - loss: 39.9345 - accuracy: 0.1016\n",
            "Epoch 13/20\n",
            "469/469 [==============================] - 2s 3ms/step - loss: 39.5369 - accuracy: 0.1015\n",
            "Epoch 14/20\n",
            "469/469 [==============================] - 2s 4ms/step - loss: 40.6824 - accuracy: 0.1030\n",
            "Epoch 15/20\n",
            "469/469 [==============================] - 2s 5ms/step - loss: 40.5038 - accuracy: 0.1000\n",
            "Epoch 16/20\n",
            "469/469 [==============================] - 2s 3ms/step - loss: 40.3775 - accuracy: 0.0996\n",
            "Epoch 17/20\n",
            "469/469 [==============================] - 2s 3ms/step - loss: 39.8834 - accuracy: 0.1006\n",
            "Epoch 18/20\n",
            "469/469 [==============================] - 2s 3ms/step - loss: 40.3679 - accuracy: 0.1007\n",
            "Epoch 19/20\n",
            "469/469 [==============================] - 2s 3ms/step - loss: 39.7171 - accuracy: 0.1035\n",
            "Epoch 20/20\n",
            "469/469 [==============================] - 2s 3ms/step - loss: 39.5313 - accuracy: 0.1001\n"
          ]
        },
        {
          "output_type": "execute_result",
          "data": {
            "text/plain": [
              "<keras.src.callbacks.History at 0x7bfcdbe29bd0>"
            ]
          },
          "metadata": {},
          "execution_count": 27
        }
      ]
    },
    {
      "cell_type": "code",
      "source": [
        "score = model.evaluate(X_test, Y_test, verbose=0)\n",
        "print('Test score:', score[0])\n",
        "print('Test accuracy:', score[1])"
      ],
      "metadata": {
        "colab": {
          "base_uri": "https://localhost:8080/"
        },
        "id": "Gr36KB82QdKa",
        "outputId": "05aa7720-b6b6-42c1-8d01-e7e9629ac57b"
      },
      "execution_count": 28,
      "outputs": [
        {
          "output_type": "stream",
          "name": "stdout",
          "text": [
            "Test score: 42.847740173339844\n",
            "Test accuracy: 0.10100000351667404\n"
          ]
        }
      ]
    },
    {
      "cell_type": "code",
      "source": [
        "model = Sequential()\n",
        "# The first dense layer\n",
        "model.add(Dense(128, input_shape=(784,), activation=\"relu\"))\n",
        "# The second dense layer\n",
        "model.add(Dense(64, activation=\"relu\"))\n",
        "# The last layer is the output layer\n",
        "model.add(Dense(10, activation=\"softmax\"))\n",
        "\n",
        "model.compile(optimizer= sgd_3, loss='categorical_crossentropy', metrics=['accuracy'])\n",
        "\n",
        "model.fit(X_train, Y_train, batch_size=128, epochs=20, verbose=1)"
      ],
      "metadata": {
        "colab": {
          "base_uri": "https://localhost:8080/"
        },
        "id": "nEfL5-YXQdVX",
        "outputId": "a4a5d541-b016-4198-8601-f942ee9951db"
      },
      "execution_count": 29,
      "outputs": [
        {
          "output_type": "stream",
          "name": "stdout",
          "text": [
            "Epoch 1/20\n",
            "469/469 [==============================] - 15s 31ms/step - loss: 2.3782 - accuracy: 0.0855\n",
            "Epoch 2/20\n",
            "469/469 [==============================] - 2s 3ms/step - loss: 2.3782 - accuracy: 0.0855\n",
            "Epoch 3/20\n",
            "469/469 [==============================] - 2s 4ms/step - loss: 2.3782 - accuracy: 0.0855\n",
            "Epoch 4/20\n",
            "469/469 [==============================] - 2s 5ms/step - loss: 2.3782 - accuracy: 0.0855\n",
            "Epoch 5/20\n",
            "469/469 [==============================] - 2s 3ms/step - loss: 2.3782 - accuracy: 0.0855\n",
            "Epoch 6/20\n",
            "469/469 [==============================] - 2s 3ms/step - loss: 2.3782 - accuracy: 0.0855\n",
            "Epoch 7/20\n",
            "469/469 [==============================] - 2s 3ms/step - loss: 2.3781 - accuracy: 0.0855\n",
            "Epoch 8/20\n",
            "469/469 [==============================] - 2s 3ms/step - loss: 2.3781 - accuracy: 0.0855\n",
            "Epoch 9/20\n",
            "469/469 [==============================] - 2s 3ms/step - loss: 2.3781 - accuracy: 0.0855\n",
            "Epoch 10/20\n",
            "469/469 [==============================] - 2s 3ms/step - loss: 2.3781 - accuracy: 0.0855\n",
            "Epoch 11/20\n",
            "469/469 [==============================] - 3s 5ms/step - loss: 2.3781 - accuracy: 0.0855\n",
            "Epoch 12/20\n",
            "469/469 [==============================] - 2s 4ms/step - loss: 2.3781 - accuracy: 0.0855\n",
            "Epoch 13/20\n",
            "469/469 [==============================] - 2s 3ms/step - loss: 2.3780 - accuracy: 0.0854\n",
            "Epoch 14/20\n",
            "469/469 [==============================] - 2s 3ms/step - loss: 2.3780 - accuracy: 0.0854\n",
            "Epoch 15/20\n",
            "469/469 [==============================] - 2s 3ms/step - loss: 2.3780 - accuracy: 0.0854\n",
            "Epoch 16/20\n",
            "469/469 [==============================] - 2s 3ms/step - loss: 2.3780 - accuracy: 0.0854\n",
            "Epoch 17/20\n",
            "469/469 [==============================] - 2s 3ms/step - loss: 2.3780 - accuracy: 0.0854\n",
            "Epoch 18/20\n",
            "469/469 [==============================] - 2s 5ms/step - loss: 2.3780 - accuracy: 0.0854\n",
            "Epoch 19/20\n",
            "469/469 [==============================] - 2s 5ms/step - loss: 2.3779 - accuracy: 0.0854\n",
            "Epoch 20/20\n",
            "469/469 [==============================] - 2s 3ms/step - loss: 2.3779 - accuracy: 0.0854\n"
          ]
        },
        {
          "output_type": "execute_result",
          "data": {
            "text/plain": [
              "<keras.src.callbacks.History at 0x7bfcb4119ab0>"
            ]
          },
          "metadata": {},
          "execution_count": 29
        }
      ]
    },
    {
      "cell_type": "code",
      "source": [
        "score = model.evaluate(X_test, Y_test, verbose=0)\n",
        "print('Test score:', score[0])\n",
        "print('Test accuracy:', score[1])"
      ],
      "metadata": {
        "colab": {
          "base_uri": "https://localhost:8080/"
        },
        "id": "Z_8k5c9GQjqk",
        "outputId": "961ccb67-a7f5-42de-a629-a57aff3102bd"
      },
      "execution_count": 30,
      "outputs": [
        {
          "output_type": "stream",
          "name": "stdout",
          "text": [
            "Test score: 2.3815014362335205\n",
            "Test accuracy: 0.0860000029206276\n"
          ]
        }
      ]
    },
    {
      "cell_type": "markdown",
      "source": [
        "The learning rate of 0.01 performed the best. It converged and had the best training and test set scores."
      ],
      "metadata": {
        "id": "dO04X0J_QlWH"
      }
    }
  ]
}